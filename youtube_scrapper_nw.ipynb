{
 "cells": [
  {
   "cell_type": "markdown",
   "id": "77933cf8-f488-41c3-ba0d-b180c5693545",
   "metadata": {},
   "source": [
    "### Assignment"
   ]
  },
  {
   "cell_type": "code",
   "execution_count": null,
   "id": "9206bd68-7a77-4a23-a7b2-59da72cb5e74",
   "metadata": {},
   "outputs": [],
   "source": [
    "\n",
    "\n"
   ]
  },
  {
   "cell_type": "code",
   "execution_count": 23,
   "id": "5bb6ce24-05be-4568-a37d-dbe6722c4f38",
   "metadata": {},
   "outputs": [],
   "source": [
    "from flask import Flask, render_template, request, jsonify\n",
    "from flask_cors import CORS,cross_origin\n",
    "import logging\n",
    "import os\n",
    "import requests\n",
    "import re\n",
    "import pandas as pd\n",
    "\n",
    "\n"
   ]
  },
  {
   "cell_type": "code",
   "execution_count": 42,
   "id": "041b168e-7a55-40de-98e3-24f7f68ffeff",
   "metadata": {},
   "outputs": [
    {
     "name": "stdout",
     "output_type": "stream",
     "text": [
      "200\n"
     ]
    }
   ],
   "source": [
    "input_text = 'PW-Foundation'\n",
    "url = f'https://www.youtube.com/@{input_text}/videos'\n",
    "\n",
    "headers = {\"User-Agent\": \"Mozilla/5.0 (Windows NT 10.0; Win64; x64) AppleWebKit/537.36 (KHTML, like Gecko) Chrome/58.0.3029.110 Safari/537.36\"}\n",
    "response = requests.get(url, headers=headers)\n",
    "print(response.status_code)\n",
    "response_text = response.text\n"
   ]
  },
  {
   "cell_type": "code",
   "execution_count": 43,
   "id": "9965e5a1-39e3-4b0b-b7da-61e70d73dba3",
   "metadata": {},
   "outputs": [],
   "source": [
    "vid_titles = re.findall('\"title\":{\"runs\":\\[{\"text\":\".*?\"', response_text)"
   ]
  },
  {
   "cell_type": "code",
   "execution_count": 44,
   "id": "d7203412-7694-437a-8fbe-9bf81f251b43",
   "metadata": {},
   "outputs": [
    {
     "data": {
      "text/plain": [
       "['\"title\":{\"runs\":[{\"text\":\"Bachoo आपके क्या Plan है इस Summer Vacation ❓❓\"',\n",
       " '\"title\":{\"runs\":[{\"text\":\"The Ultimate Class 11th Survival Guide: Tips and Tricks for Success\"',\n",
       " '\"title\":{\"runs\":[{\"text\":\"If not MBBS then What ❓|| Career Options for Biology Students\"',\n",
       " '\"title\":{\"runs\":[{\"text\":\"Why Commerce After 10th, Explore the Best Career Options | Must Watch\"',\n",
       " '\"title\":{\"runs\":[{\"text\":\"Class 10th Ke Baad Konsi Stream Le? || Strategy Wallah || PW Foundation\"',\n",
       " '\"title\":{\"runs\":[{\"text\":\"तो चलिए शुरू करते है AIIMS Jane Ki Tayyari !! Revealing Arjuna NEET Faculties 🙏 Check Description.\"',\n",
       " '\"title\":{\"runs\":[{\"text\":\"Ruman Ashraf - Bihar Board Class 10th TOPPER from PW !! Udaan Batch⚡\"',\n",
       " '\"title\":{\"runs\":[{\"text\":\"Complete Roadmap on How to Start Class 9th 🔥 || Full Year Long Strategy For Students 💯\"',\n",
       " '\"title\":{\"runs\":[{\"text\":\"Class 10th Over 😎 अब Class 11th JEE की तैयारी !! Check Description.\"',\n",
       " '\"title\":{\"runs\":[{\"text\":\"Aarambh Batch 2024 | For CBSE Class 11th Commerce | Biggest Launch🔥\"',\n",
       " '\"title\":{\"runs\":[{\"text\":\"India\\'s NO.1 Batch for Class 10th - UDAAN ⚡ Launching Today !! Check Description.\"',\n",
       " '\"title\":{\"runs\":[{\"text\":\"India\\'s Biggest Scholarship Test for Classes 8th to 12th !! 🔥🔥 || PW SAT 2023 ⚡💥\"',\n",
       " '\"title\":{\"runs\":[{\"text\":\"How to score 95%+ in class 10th? Complete year Powerful Strategy!!\"',\n",
       " '\"title\":{\"runs\":[{\"text\":\"Last 4 Days Left For SST Exam || How To Manage to Score 80/80 in Boards || Class-10th\"',\n",
       " '\"title\":{\"runs\":[{\"text\":\"Benefits of Choosing Commerce After 10th | Commerce क्यों लेना चाहिए? | CBSE | ICSE | State Boards\"',\n",
       " '\"title\":{\"runs\":[{\"text\":\"Complete 𝗖𝗔𝗥𝗕𝗢𝗡 𝗔𝗡𝗗 𝗜𝗧𝗦 𝗖𝗢𝗠𝗣𝗢𝗨𝗡𝗗𝗦 in 90 Minutes | Class 10th Board Exam\"',\n",
       " '\"title\":{\"runs\":[{\"text\":\"Complete 𝗠𝗘𝗧𝗔𝗟𝗦 \\\\u0026 𝗡𝗢𝗡 𝗠𝗘𝗧𝗔𝗟𝗦  in 120 Minutes | Class 10th Board Exam\"',\n",
       " '\"title\":{\"runs\":[{\"text\":\"Complete 𝗔𝗖𝗜𝗗, 𝗕𝗔𝗦𝗘𝗦 𝗔𝗡𝗗 𝗦𝗔𝗟𝗧 in 110 Minutes | Class 10th Board Exam\"',\n",
       " '\"title\":{\"runs\":[{\"text\":\"Complete 𝗖𝗛𝗘𝗠𝗜𝗖𝗔𝗟 𝗥𝗘𝗔𝗖𝗧𝗜𝗢𝗡  in 90 Minutes | Class 10th Board Exam\"',\n",
       " '\"title\":{\"runs\":[{\"text\":\"Complete 𝐇𝐄𝐑𝐄𝐃𝐈𝐓𝐘 𝐀𝐍𝐃 𝐄𝐕𝐎𝐋𝐔𝐓𝐈𝐎𝐍 in 2 Hours|| Class 10th Board Exam\"',\n",
       " '\"title\":{\"runs\":[{\"text\":\"Complete 𝗛𝗢𝗪 𝗗𝗢 𝗢𝗥𝗚𝗔𝗡𝗜𝗦𝗠𝗦 𝗥𝗘𝗣𝗥𝗢𝗗𝗨𝗖𝗘 in 1 Hours 50 Minutes|| Class 10th Board Exam\"',\n",
       " '\"title\":{\"runs\":[{\"text\":\"Complete 𝗢𝗨𝗥 𝗘𝗡𝗩𝗜𝗥𝗢𝗡𝗠𝗘𝗡𝗧 in 1 Hour 30 Minutes | Class 10th Board Exam\"',\n",
       " '\"title\":{\"runs\":[{\"text\":\"Complete 𝗖𝗼𝗻𝘁𝗿𝗼𝗹 𝗮𝗻𝗱 𝗖𝗼𝗼𝗿𝗱𝗶𝗻𝗮𝘁𝗶𝗼𝗻 in 1 Hours 50 Minutes | Class 10th Board Exam\"',\n",
       " '\"title\":{\"runs\":[{\"text\":\"Complete 𝗟𝗶𝗳𝗲 𝗣𝗿𝗼𝗰𝗲𝘀𝘀𝗲𝘀 in 2 Hours 58 Minutes | Class 10th Board Exam\"',\n",
       " '\"title\":{\"runs\":[{\"text\":\"Complete 𝗠𝗮𝗴𝗻𝗲𝘁𝗶𝗰 𝗘𝗳𝗳𝗲𝗰𝘁 𝗼𝗳 𝗘𝗹𝗲𝗰𝘁𝗿𝗶𝗰 𝗖𝘂𝗿𝗿𝗲𝗻𝘁 in 2 Hours 15 Minutes | Class 10th Board Exam\"',\n",
       " '\"title\":{\"runs\":[{\"text\":\"Complete 𝗛𝘂𝗺𝗮𝗻 𝗘𝘆𝗲 \\\\u0026 𝗧𝗵𝗲 𝗖𝗼𝗹𝗼𝘂𝗿𝗳𝘂𝗹 𝗪𝗼𝗿𝗹𝗱 in 2 Hours 24 Minutes | Class 10th Board Exam\"',\n",
       " '\"title\":{\"runs\":[{\"text\":\"Complete 𝗘𝗹𝗲𝗰𝘁𝗿𝗶𝗰𝗶𝘁𝘆 in 2 Hours 4 Minutes  | Class 10th Board Exam\"',\n",
       " '\"title\":{\"runs\":[{\"text\":\"Complete 𝗟𝗜𝗚𝗛𝗧 in 3 Hours 49 Minutes | Class 10th Board Exam\"',\n",
       " '\"title\":{\"runs\":[{\"text\":\"NEW Batches for Class 10 \\\\u0026 9 - Session 2023-24 || NEEV and UDAAN Batch Launch 🚀\"',\n",
       " '\"title\":{\"runs\":[{\"text\":\"आपको Commerce में क्या सीखने को मिलता है ?? Complete Information\"',\n",
       " '\"title\":{\"runs\":[{\"text\":\"Keyboard shortcuts\"',\n",
       " '\"title\":{\"runs\":[{\"text\":\"Playback\"',\n",
       " '\"title\":{\"runs\":[{\"text\":\"General\"',\n",
       " '\"title\":{\"runs\":[{\"text\":\"Subtitles and closed captions\"',\n",
       " '\"title\":{\"runs\":[{\"text\":\"Spherical videos\"']"
      ]
     },
     "execution_count": 44,
     "metadata": {},
     "output_type": "execute_result"
    }
   ],
   "source": [
    "vid_titles "
   ]
  },
  {
   "cell_type": "code",
   "execution_count": 41,
   "id": "79d032e6-3b94-4268-af6b-4fa0ccf9ca55",
   "metadata": {},
   "outputs": [
    {
     "data": {
      "text/plain": [
       "['https://i.ytimg.com/vi/uSSFACVucbs/hqdefault.jpg',\n",
       " 'https://i.ytimg.com/vi/uSSFACVucbs/hqdefault.jpg',\n",
       " 'https://i.ytimg.com/vi/uSSFACVucbs/hqdefault.jpg',\n",
       " 'https://i.ytimg.com/vi/uSSFACVucbs/hqdefault.jpg',\n",
       " 'https://i.ytimg.com/vi/p7f685ljJL8/hqdefault.jpg',\n",
       " 'https://i.ytimg.com/vi/p7f685ljJL8/hqdefault.jpg',\n",
       " 'https://i.ytimg.com/vi/p7f685ljJL8/hqdefault.jpg',\n",
       " 'https://i.ytimg.com/vi/p7f685ljJL8/hqdefault.jpg',\n",
       " 'https://i.ytimg.com/vi/cT4tyypGjog/hqdefault.jpg',\n",
       " 'https://i.ytimg.com/vi/cT4tyypGjog/hqdefault.jpg',\n",
       " 'https://i.ytimg.com/vi/cT4tyypGjog/hqdefault.jpg',\n",
       " 'https://i.ytimg.com/vi/cT4tyypGjog/hqdefault.jpg',\n",
       " 'https://i.ytimg.com/vi/pKs2h1rf21Q/hqdefault.jpg',\n",
       " 'https://i.ytimg.com/vi/pKs2h1rf21Q/hqdefault.jpg',\n",
       " 'https://i.ytimg.com/vi/pKs2h1rf21Q/hqdefault.jpg',\n",
       " 'https://i.ytimg.com/vi/pKs2h1rf21Q/hqdefault.jpg',\n",
       " 'https://i.ytimg.com/vi/JCCCh08wNwE/hqdefault.jpg',\n",
       " 'https://i.ytimg.com/vi/JCCCh08wNwE/hqdefault.jpg',\n",
       " 'https://i.ytimg.com/vi/JCCCh08wNwE/hqdefault.jpg',\n",
       " 'https://i.ytimg.com/vi/JCCCh08wNwE/hqdefault.jpg',\n",
       " 'https://i.ytimg.com/vi/QFaGWjOPtQk/hqdefault.jpg',\n",
       " 'https://i.ytimg.com/vi/QFaGWjOPtQk/hqdefault.jpg',\n",
       " 'https://i.ytimg.com/vi/QFaGWjOPtQk/hqdefault.jpg',\n",
       " 'https://i.ytimg.com/vi/QFaGWjOPtQk/hqdefault.jpg',\n",
       " 'https://i.ytimg.com/vi/XthtzwQSug8/hqdefault.jpg',\n",
       " 'https://i.ytimg.com/vi/XthtzwQSug8/hqdefault.jpg',\n",
       " 'https://i.ytimg.com/vi/XthtzwQSug8/hqdefault.jpg',\n",
       " 'https://i.ytimg.com/vi/XthtzwQSug8/hqdefault.jpg',\n",
       " 'https://i.ytimg.com/vi/SF5vEQo2-ng/hqdefault.jpg',\n",
       " 'https://i.ytimg.com/vi/SF5vEQo2-ng/hqdefault.jpg',\n",
       " 'https://i.ytimg.com/vi/SF5vEQo2-ng/hqdefault.jpg',\n",
       " 'https://i.ytimg.com/vi/SF5vEQo2-ng/hqdefault.jpg',\n",
       " 'https://i.ytimg.com/vi/sg5vXzEfxLU/hqdefault.jpg',\n",
       " 'https://i.ytimg.com/vi/sg5vXzEfxLU/hqdefault.jpg',\n",
       " 'https://i.ytimg.com/vi/sg5vXzEfxLU/hqdefault.jpg',\n",
       " 'https://i.ytimg.com/vi/sg5vXzEfxLU/hqdefault.jpg',\n",
       " 'https://i.ytimg.com/vi/TfXlNLKXHmY/hqdefault.jpg',\n",
       " 'https://i.ytimg.com/vi/TfXlNLKXHmY/hqdefault.jpg',\n",
       " 'https://i.ytimg.com/vi/TfXlNLKXHmY/hqdefault.jpg',\n",
       " 'https://i.ytimg.com/vi/TfXlNLKXHmY/hqdefault.jpg',\n",
       " 'https://i.ytimg.com/vi/4QaBTxdALWs/hqdefault.jpg',\n",
       " 'https://i.ytimg.com/vi/4QaBTxdALWs/hqdefault.jpg',\n",
       " 'https://i.ytimg.com/vi/4QaBTxdALWs/hqdefault.jpg',\n",
       " 'https://i.ytimg.com/vi/4QaBTxdALWs/hqdefault.jpg',\n",
       " 'https://i.ytimg.com/vi/YEHAOTWGfWA/hqdefault.jpg',\n",
       " 'https://i.ytimg.com/vi/YEHAOTWGfWA/hqdefault.jpg',\n",
       " 'https://i.ytimg.com/vi/YEHAOTWGfWA/hqdefault.jpg',\n",
       " 'https://i.ytimg.com/vi/YEHAOTWGfWA/hqdefault.jpg',\n",
       " 'https://i.ytimg.com/vi/iPqFmqjZEEk/hqdefault.jpg',\n",
       " 'https://i.ytimg.com/vi/iPqFmqjZEEk/hqdefault.jpg',\n",
       " 'https://i.ytimg.com/vi/iPqFmqjZEEk/hqdefault.jpg',\n",
       " 'https://i.ytimg.com/vi/iPqFmqjZEEk/hqdefault.jpg',\n",
       " 'https://i.ytimg.com/vi/Cm5HEoRKt-8/hqdefault.jpg',\n",
       " 'https://i.ytimg.com/vi/Cm5HEoRKt-8/hqdefault.jpg',\n",
       " 'https://i.ytimg.com/vi/Cm5HEoRKt-8/hqdefault.jpg',\n",
       " 'https://i.ytimg.com/vi/Cm5HEoRKt-8/hqdefault.jpg',\n",
       " 'https://i.ytimg.com/vi/bODY50rqPZg/hqdefault.jpg',\n",
       " 'https://i.ytimg.com/vi/bODY50rqPZg/hqdefault.jpg',\n",
       " 'https://i.ytimg.com/vi/bODY50rqPZg/hqdefault.jpg',\n",
       " 'https://i.ytimg.com/vi/bODY50rqPZg/hqdefault.jpg',\n",
       " 'https://i.ytimg.com/vi/v1JI1b3RIcI/hqdefault.jpg',\n",
       " 'https://i.ytimg.com/vi/v1JI1b3RIcI/hqdefault.jpg',\n",
       " 'https://i.ytimg.com/vi/v1JI1b3RIcI/hqdefault.jpg',\n",
       " 'https://i.ytimg.com/vi/v1JI1b3RIcI/hqdefault.jpg',\n",
       " 'https://i.ytimg.com/vi/RnlsvUrjPeU/hqdefault.jpg',\n",
       " 'https://i.ytimg.com/vi/RnlsvUrjPeU/hqdefault.jpg',\n",
       " 'https://i.ytimg.com/vi/RnlsvUrjPeU/hqdefault.jpg',\n",
       " 'https://i.ytimg.com/vi/RnlsvUrjPeU/hqdefault.jpg',\n",
       " 'https://i.ytimg.com/vi/YCFISCBwJNg/hqdefault.jpg',\n",
       " 'https://i.ytimg.com/vi/YCFISCBwJNg/hqdefault.jpg',\n",
       " 'https://i.ytimg.com/vi/YCFISCBwJNg/hqdefault.jpg',\n",
       " 'https://i.ytimg.com/vi/YCFISCBwJNg/hqdefault.jpg',\n",
       " 'https://i.ytimg.com/vi/kgHhCKbF3X0/hqdefault.jpg',\n",
       " 'https://i.ytimg.com/vi/kgHhCKbF3X0/hqdefault.jpg',\n",
       " 'https://i.ytimg.com/vi/kgHhCKbF3X0/hqdefault.jpg',\n",
       " 'https://i.ytimg.com/vi/kgHhCKbF3X0/hqdefault.jpg',\n",
       " 'https://i.ytimg.com/vi/vqu4z34wENw/hqdefault.jpg',\n",
       " 'https://i.ytimg.com/vi/vqu4z34wENw/hqdefault.jpg',\n",
       " 'https://i.ytimg.com/vi/vqu4z34wENw/hqdefault.jpg',\n",
       " 'https://i.ytimg.com/vi/vqu4z34wENw/hqdefault.jpg',\n",
       " 'https://i.ytimg.com/vi/SGHQuqMH7p8/hqdefault.jpg',\n",
       " 'https://i.ytimg.com/vi/SGHQuqMH7p8/hqdefault.jpg',\n",
       " 'https://i.ytimg.com/vi/SGHQuqMH7p8/hqdefault.jpg',\n",
       " 'https://i.ytimg.com/vi/SGHQuqMH7p8/hqdefault.jpg',\n",
       " 'https://i.ytimg.com/vi/YxWlaYCA8MU/hqdefault.jpg',\n",
       " 'https://i.ytimg.com/vi/YxWlaYCA8MU/hqdefault.jpg',\n",
       " 'https://i.ytimg.com/vi/YxWlaYCA8MU/hqdefault.jpg',\n",
       " 'https://i.ytimg.com/vi/YxWlaYCA8MU/hqdefault.jpg',\n",
       " 'https://i.ytimg.com/vi/huxhqphtDrM/hqdefault.jpg',\n",
       " 'https://i.ytimg.com/vi/huxhqphtDrM/hqdefault.jpg',\n",
       " 'https://i.ytimg.com/vi/huxhqphtDrM/hqdefault.jpg',\n",
       " 'https://i.ytimg.com/vi/huxhqphtDrM/hqdefault.jpg',\n",
       " 'https://i.ytimg.com/vi/b9Op9rkWRuw/hqdefault.jpg',\n",
       " 'https://i.ytimg.com/vi/b9Op9rkWRuw/hqdefault.jpg',\n",
       " 'https://i.ytimg.com/vi/b9Op9rkWRuw/hqdefault.jpg',\n",
       " 'https://i.ytimg.com/vi/b9Op9rkWRuw/hqdefault.jpg',\n",
       " 'https://i.ytimg.com/vi/ADzAbzWuLCI/hqdefault.jpg',\n",
       " 'https://i.ytimg.com/vi/ADzAbzWuLCI/hqdefault.jpg',\n",
       " 'https://i.ytimg.com/vi/ADzAbzWuLCI/hqdefault.jpg',\n",
       " 'https://i.ytimg.com/vi/ADzAbzWuLCI/hqdefault.jpg',\n",
       " 'https://i.ytimg.com/vi/nS5xqazKipA/hqdefault.jpg',\n",
       " 'https://i.ytimg.com/vi/nS5xqazKipA/hqdefault.jpg',\n",
       " 'https://i.ytimg.com/vi/nS5xqazKipA/hqdefault.jpg',\n",
       " 'https://i.ytimg.com/vi/nS5xqazKipA/hqdefault.jpg',\n",
       " 'https://i.ytimg.com/vi/4xl9KfUg8Lc/hqdefault.jpg',\n",
       " 'https://i.ytimg.com/vi/4xl9KfUg8Lc/hqdefault.jpg',\n",
       " 'https://i.ytimg.com/vi/4xl9KfUg8Lc/hqdefault.jpg',\n",
       " 'https://i.ytimg.com/vi/4xl9KfUg8Lc/hqdefault.jpg',\n",
       " 'https://i.ytimg.com/vi/-DZ9r8ukgCg/hqdefault.jpg',\n",
       " 'https://i.ytimg.com/vi/-DZ9r8ukgCg/hqdefault.jpg',\n",
       " 'https://i.ytimg.com/vi/-DZ9r8ukgCg/hqdefault.jpg',\n",
       " 'https://i.ytimg.com/vi/-DZ9r8ukgCg/hqdefault.jpg',\n",
       " 'https://i.ytimg.com/vi/BufVbOGQ9Vk/hqdefault.jpg',\n",
       " 'https://i.ytimg.com/vi/BufVbOGQ9Vk/hqdefault.jpg',\n",
       " 'https://i.ytimg.com/vi/BufVbOGQ9Vk/hqdefault.jpg',\n",
       " 'https://i.ytimg.com/vi/BufVbOGQ9Vk/hqdefault.jpg',\n",
       " 'https://i.ytimg.com/vi/vRVNv-oJXcM/hqdefault.jpg',\n",
       " 'https://i.ytimg.com/vi/vRVNv-oJXcM/hqdefault.jpg',\n",
       " 'https://i.ytimg.com/vi/vRVNv-oJXcM/hqdefault.jpg',\n",
       " 'https://i.ytimg.com/vi/vRVNv-oJXcM/hqdefault.jpg']"
      ]
     },
     "execution_count": 41,
     "metadata": {},
     "output_type": "execute_result"
    }
   ],
   "source": [
    "vid_thumbnails = re.findall(r\"https://i.ytimg.com/vi/[A-Za-z0-9_-]{11}/[A-Za-z0-9_]{9}.jpg\", response_text)\n",
    "vid_thumbnails"
   ]
  },
  {
   "cell_type": "code",
   "execution_count": 16,
   "id": "c19cbe66-0ad7-4441-94fa-bbfc7f4289e6",
   "metadata": {},
   "outputs": [
    {
     "data": {
      "text/plain": [
       "[]"
      ]
     },
     "execution_count": 16,
     "metadata": {},
     "output_type": "execute_result"
    }
   ],
   "source": [
    "vid_links = re.findall(r\"watch\\?v=[A-Za-z0-9_-]{11}\", response_text)\n",
    "vid_links"
   ]
  },
  {
   "cell_type": "code",
   "execution_count": 17,
   "id": "7b7a4326-776d-485f-a541-edca2978e69e",
   "metadata": {},
   "outputs": [
    {
     "data": {
      "text/plain": [
       "re.compile(r'[0-9]+(\\.[0-9]+)?[a-zA-Z]*K views', re.UNICODE)"
      ]
     },
     "execution_count": 17,
     "metadata": {},
     "output_type": "execute_result"
    }
   ],
   "source": [
    "pattern3 = re.compile(r\"[0-9]+(\\.[0-9]+)?[a-zA-Z]*K views\")  # view count\n",
    "pattern3"
   ]
  },
  {
   "cell_type": "code",
   "execution_count": 18,
   "id": "013f76cc-3bd2-452a-a216-966e8616d9d5",
   "metadata": {},
   "outputs": [
    {
     "data": {
      "text/plain": [
       "re.compile(r'\\d+ (minutes|hours|hour|days|day|weeks|week|years|year) ago',\n",
       "           re.UNICODE)"
      ]
     },
     "execution_count": 18,
     "metadata": {},
     "output_type": "execute_result"
    }
   ],
   "source": [
    "pattern4 = re.compile(r\"\\d+ (minutes|hours|hour|days|day|weeks|week|years|year) ago\")  # vedio age\n",
    "pattern4"
   ]
  },
  {
   "cell_type": "code",
   "execution_count": 19,
   "id": "cb420799-e2ac-49a7-bf55-97d10957642c",
   "metadata": {},
   "outputs": [],
   "source": [
    "matches1 = pattern3.finditer(response_text)\n",
    "matches2 = pattern4.finditer(response_text)"
   ]
  },
  {
   "cell_type": "code",
   "execution_count": 20,
   "id": "da255cde-089a-4f53-9878-67ea14539815",
   "metadata": {},
   "outputs": [],
   "source": [
    "vid_viewcounts=[]\n",
    "vid_ages=[]\n",
    "count = 0\n",
    "for match1,match2 in zip(matches1,matches2):\n",
    "    vid_ages.append(match2[0])\n",
    "    vid_viewcounts.append(match1[0])"
   ]
  },
  {
   "cell_type": "code",
   "execution_count": 21,
   "id": "1378f99c-894f-45a3-9606-e2243ff96481",
   "metadata": {},
   "outputs": [
    {
     "data": {
      "text/plain": [
       "[]"
      ]
     },
     "execution_count": 21,
     "metadata": {},
     "output_type": "execute_result"
    }
   ],
   "source": [
    "titles = vid_titles[0:10]\n",
    "thumbnails = list(dict.fromkeys(vid_thumbnails))\n",
    "links = vid_links[0:10]\n",
    "viewcounts=vid_viewcounts[0:20:2]\n",
    "ages=vid_ages[0:20:2]\n",
    "\n",
    "details_list=[]\n",
    "\n",
    "for title,thumbnail,link,viewcount,age in zip(titles,thumbnails,links,viewcounts,ages):\n",
    "    details_dict={\n",
    "    \"title\":title.split('\"')[-2], \"thumbnail\": thumbnail, \"link\": \"https://www.youtube.com/\"+link,\n",
    "    \"viewcount\": viewcount, \"age\": age\n",
    "    }\n",
    "    details_list.append(details_dict)\n",
    "\n",
    "\n",
    "\n",
    "details_list"
   ]
  },
  {
   "cell_type": "code",
   "execution_count": 22,
   "id": "7ccc367a-750f-47e0-a091-75445031a564",
   "metadata": {},
   "outputs": [],
   "source": [
    "df = pd.DataFrame(details_list)\n",
    "df.to_csv('YTscrapData.csv', index=False)"
   ]
  },
  {
   "cell_type": "code",
   "execution_count": null,
   "id": "9654d367-435d-4711-bcc4-20a299158c7f",
   "metadata": {},
   "outputs": [],
   "source": []
  }
 ],
 "metadata": {
  "kernelspec": {
   "display_name": "Python 3 (ipykernel)",
   "language": "python",
   "name": "python3"
  },
  "language_info": {
   "codemirror_mode": {
    "name": "ipython",
    "version": 3
   },
   "file_extension": ".py",
   "mimetype": "text/x-python",
   "name": "python",
   "nbconvert_exporter": "python",
   "pygments_lexer": "ipython3",
   "version": "3.10.8"
  },
  "vscode": {
   "interpreter": {
    "hash": "e7370f93d1d0cde622a1f8e1c04877d8463912d04d973331ad4851f04de6915a"
   }
  }
 },
 "nbformat": 4,
 "nbformat_minor": 5
}
